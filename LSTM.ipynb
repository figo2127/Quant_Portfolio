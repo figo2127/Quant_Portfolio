{
 "cells": [
  {
   "cell_type": "code",
   "execution_count": 1,
   "metadata": {},
   "outputs": [],
   "source": [
    "import datetime\n",
    "import yfinance as yf\n",
    "import pandas as pd\n",
    "import numpy as np"
   ]
  },
  {
   "cell_type": "code",
   "execution_count": 2,
   "metadata": {},
   "outputs": [],
   "source": [
    "def get_historical_data(symbol,start_date,end_date):\n",
    "    ''' Daily quotes from Google. Date format='yyyy-mm-dd' '''\n",
    "    symbol = symbol.upper()\n",
    "    start = datetime.date(int(start_date[0:4]), int(start_date[5:7]), int(start_date[8:10]))\n",
    "    end = datetime.date(int(end_date[0:4]), int(end_date[5:7]), int(end_date[8:10]))\n",
    "    url_string = \"http://www.google.com/finance/historical?q={0}\".format(symbol)\n",
    "    url_string += \"&startdate={0}&enddate={1}&num={0}&ei=KKltWZHCBNWPuQS9147YBw&output=csv\".format(start.strftime('%b%d,%Y'), end.strftime('%b%d,%Y'),4000)\n",
    "    stock_to_predict = yf.download(\"GOOGL\", start, end)\n",
    "\n",
    "#     col_names = ['Date','Open','High','Low','Close','Volume']\n",
    "#     stocks = stock_to_predict[col_names] #filtered the columns\n",
    "    stock_to_predict.head()\n",
    "    df = pd.DataFrame(stock_to_predict)\n",
    "    df = df.drop([\"Adj Close\"],axis=1)\n",
    "    return df"
   ]
  },
  {
   "cell_type": "code",
   "execution_count": 3,
   "metadata": {},
   "outputs": [
    {
     "name": "stdout",
     "output_type": "stream",
     "text": [
      "[*********************100%***********************]  1 of 1 completed\n"
     ]
    },
    {
     "data": {
      "text/html": [
       "<div>\n",
       "<style scoped>\n",
       "    .dataframe tbody tr th:only-of-type {\n",
       "        vertical-align: middle;\n",
       "    }\n",
       "\n",
       "    .dataframe tbody tr th {\n",
       "        vertical-align: top;\n",
       "    }\n",
       "\n",
       "    .dataframe thead th {\n",
       "        text-align: right;\n",
       "    }\n",
       "</style>\n",
       "<table border=\"1\" class=\"dataframe\">\n",
       "  <thead>\n",
       "    <tr style=\"text-align: right;\">\n",
       "      <th></th>\n",
       "      <th>Open</th>\n",
       "      <th>High</th>\n",
       "      <th>Low</th>\n",
       "      <th>Close</th>\n",
       "      <th>Volume</th>\n",
       "    </tr>\n",
       "    <tr>\n",
       "      <th>Date</th>\n",
       "      <th></th>\n",
       "      <th></th>\n",
       "      <th></th>\n",
       "      <th></th>\n",
       "      <th></th>\n",
       "    </tr>\n",
       "  </thead>\n",
       "  <tbody>\n",
       "    <tr>\n",
       "      <th>2016-10-31</th>\n",
       "      <td>822.429993</td>\n",
       "      <td>822.630005</td>\n",
       "      <td>808.000000</td>\n",
       "      <td>809.900024</td>\n",
       "      <td>2242700</td>\n",
       "    </tr>\n",
       "    <tr>\n",
       "      <th>2016-11-01</th>\n",
       "      <td>810.869995</td>\n",
       "      <td>813.960022</td>\n",
       "      <td>798.260010</td>\n",
       "      <td>805.479980</td>\n",
       "      <td>2355900</td>\n",
       "    </tr>\n",
       "    <tr>\n",
       "      <th>2016-11-02</th>\n",
       "      <td>806.760010</td>\n",
       "      <td>806.760010</td>\n",
       "      <td>785.000000</td>\n",
       "      <td>788.419983</td>\n",
       "      <td>2350700</td>\n",
       "    </tr>\n",
       "    <tr>\n",
       "      <th>2016-11-03</th>\n",
       "      <td>784.500000</td>\n",
       "      <td>790.000000</td>\n",
       "      <td>778.630005</td>\n",
       "      <td>782.190002</td>\n",
       "      <td>2175200</td>\n",
       "    </tr>\n",
       "    <tr>\n",
       "      <th>2016-11-04</th>\n",
       "      <td>771.299988</td>\n",
       "      <td>788.479980</td>\n",
       "      <td>771.000000</td>\n",
       "      <td>781.099976</td>\n",
       "      <td>1970600</td>\n",
       "    </tr>\n",
       "    <tr>\n",
       "      <th>...</th>\n",
       "      <td>...</td>\n",
       "      <td>...</td>\n",
       "      <td>...</td>\n",
       "      <td>...</td>\n",
       "      <td>...</td>\n",
       "    </tr>\n",
       "    <tr>\n",
       "      <th>2020-11-23</th>\n",
       "      <td>1740.219971</td>\n",
       "      <td>1745.989990</td>\n",
       "      <td>1710.180054</td>\n",
       "      <td>1727.560059</td>\n",
       "      <td>1126500</td>\n",
       "    </tr>\n",
       "    <tr>\n",
       "      <th>2020-11-24</th>\n",
       "      <td>1727.500000</td>\n",
       "      <td>1766.479980</td>\n",
       "      <td>1720.729980</td>\n",
       "      <td>1763.900024</td>\n",
       "      <td>1399200</td>\n",
       "    </tr>\n",
       "    <tr>\n",
       "      <th>2020-11-25</th>\n",
       "      <td>1767.810059</td>\n",
       "      <td>1770.380005</td>\n",
       "      <td>1748.359985</td>\n",
       "      <td>1764.130005</td>\n",
       "      <td>980000</td>\n",
       "    </tr>\n",
       "    <tr>\n",
       "      <th>2020-11-27</th>\n",
       "      <td>1764.540039</td>\n",
       "      <td>1797.010010</td>\n",
       "      <td>1764.540039</td>\n",
       "      <td>1787.020020</td>\n",
       "      <td>739500</td>\n",
       "    </tr>\n",
       "    <tr>\n",
       "      <th>2020-11-30</th>\n",
       "      <td>1775.650024</td>\n",
       "      <td>1780.339966</td>\n",
       "      <td>1747.839966</td>\n",
       "      <td>1754.400024</td>\n",
       "      <td>1620900</td>\n",
       "    </tr>\n",
       "  </tbody>\n",
       "</table>\n",
       "<p>1028 rows × 5 columns</p>\n",
       "</div>"
      ],
      "text/plain": [
       "                   Open         High          Low        Close   Volume\n",
       "Date                                                                   \n",
       "2016-10-31   822.429993   822.630005   808.000000   809.900024  2242700\n",
       "2016-11-01   810.869995   813.960022   798.260010   805.479980  2355900\n",
       "2016-11-02   806.760010   806.760010   785.000000   788.419983  2350700\n",
       "2016-11-03   784.500000   790.000000   778.630005   782.190002  2175200\n",
       "2016-11-04   771.299988   788.479980   771.000000   781.099976  1970600\n",
       "...                 ...          ...          ...          ...      ...\n",
       "2020-11-23  1740.219971  1745.989990  1710.180054  1727.560059  1126500\n",
       "2020-11-24  1727.500000  1766.479980  1720.729980  1763.900024  1399200\n",
       "2020-11-25  1767.810059  1770.380005  1748.359985  1764.130005   980000\n",
       "2020-11-27  1764.540039  1797.010010  1764.540039  1787.020020   739500\n",
       "2020-11-30  1775.650024  1780.339966  1747.839966  1754.400024  1620900\n",
       "\n",
       "[1028 rows x 5 columns]"
      ]
     },
     "execution_count": 3,
     "metadata": {},
     "output_type": "execute_result"
    }
   ],
   "source": [
    "data = get_historical_data(\"GOOGL\", \"2016-11-01\", \"2020-12-01\")\n",
    "data"
   ]
  },
  {
   "cell_type": "code",
   "execution_count": 4,
   "metadata": {},
   "outputs": [],
   "source": [
    "data.to_csv('google.csv',index = False)"
   ]
  },
  {
   "cell_type": "code",
   "execution_count": 5,
   "metadata": {},
   "outputs": [
    {
     "data": {
      "text/plain": [
       "array([[<AxesSubplot:xlabel='Date'>],\n",
       "       [<AxesSubplot:xlabel='Date'>],\n",
       "       [<AxesSubplot:xlabel='Date'>],\n",
       "       [<AxesSubplot:xlabel='Date'>],\n",
       "       [<AxesSubplot:xlabel='Date'>]], dtype=object)"
      ]
     },
     "execution_count": 5,
     "metadata": {},
     "output_type": "execute_result"
    },
    {
     "data": {
      "image/png": "[encoded data removed]",
      "text/plain": [
       "<Figure size 432x288 with 5 Axes>"
      ]
     },
     "metadata": {
      "needs_background": "light"
     },
     "output_type": "display_data"
    }
   ],
   "source": [
    "import matplotlib.pyplot as plt\n",
    "\n",
    "data.loc[:, ['Open', \"High\", \"Low\", \"Close\", \"Volume\"]].plot(subplots=True, layout = (5,1), grid =True)"
   ]
  },
  {
   "cell_type": "code",
   "execution_count": 6,
   "metadata": {},
   "outputs": [],
   "source": [
    "import math\n",
    "import pandas as pd\n",
    "import numpy as np\n",
    "from IPython.display import display\n",
    "from sklearn import linear_model\n",
    "from sklearn.model_selection import train_test_split\n",
    "from sklearn.metrics import mean_squared_error\n",
    "from sklearn.model_selection import TimeSeriesSplit\n",
    "from sklearn.linear_model import LinearRegression "
   ]
  },
  {
   "cell_type": "code",
   "execution_count": 7,
   "metadata": {},
   "outputs": [
    {
     "data": {
      "text/html": [
       "<div>\n",
       "<style scoped>\n",
       "    .dataframe tbody tr th:only-of-type {\n",
       "        vertical-align: middle;\n",
       "    }\n",
       "\n",
       "    .dataframe tbody tr th {\n",
       "        vertical-align: top;\n",
       "    }\n",
       "\n",
       "    .dataframe thead th {\n",
       "        text-align: right;\n",
       "    }\n",
       "</style>\n",
       "<table border=\"1\" class=\"dataframe\">\n",
       "  <thead>\n",
       "    <tr style=\"text-align: right;\">\n",
       "      <th></th>\n",
       "      <th>Item</th>\n",
       "      <th>Open</th>\n",
       "      <th>High</th>\n",
       "      <th>Low</th>\n",
       "      <th>Close</th>\n",
       "      <th>Volume</th>\n",
       "    </tr>\n",
       "    <tr>\n",
       "      <th>Date</th>\n",
       "      <th></th>\n",
       "      <th></th>\n",
       "      <th></th>\n",
       "      <th></th>\n",
       "      <th></th>\n",
       "      <th></th>\n",
       "    </tr>\n",
       "  </thead>\n",
       "  <tbody>\n",
       "    <tr>\n",
       "      <th>2016-10-31</th>\n",
       "      <td>0</td>\n",
       "      <td>822.429993</td>\n",
       "      <td>822.630005</td>\n",
       "      <td>808.000000</td>\n",
       "      <td>809.900024</td>\n",
       "      <td>2242700</td>\n",
       "    </tr>\n",
       "    <tr>\n",
       "      <th>2016-11-01</th>\n",
       "      <td>1</td>\n",
       "      <td>810.869995</td>\n",
       "      <td>813.960022</td>\n",
       "      <td>798.260010</td>\n",
       "      <td>805.479980</td>\n",
       "      <td>2355900</td>\n",
       "    </tr>\n",
       "    <tr>\n",
       "      <th>2016-11-02</th>\n",
       "      <td>2</td>\n",
       "      <td>806.760010</td>\n",
       "      <td>806.760010</td>\n",
       "      <td>785.000000</td>\n",
       "      <td>788.419983</td>\n",
       "      <td>2350700</td>\n",
       "    </tr>\n",
       "    <tr>\n",
       "      <th>2016-11-03</th>\n",
       "      <td>3</td>\n",
       "      <td>784.500000</td>\n",
       "      <td>790.000000</td>\n",
       "      <td>778.630005</td>\n",
       "      <td>782.190002</td>\n",
       "      <td>2175200</td>\n",
       "    </tr>\n",
       "    <tr>\n",
       "      <th>2016-11-04</th>\n",
       "      <td>4</td>\n",
       "      <td>771.299988</td>\n",
       "      <td>788.479980</td>\n",
       "      <td>771.000000</td>\n",
       "      <td>781.099976</td>\n",
       "      <td>1970600</td>\n",
       "    </tr>\n",
       "  </tbody>\n",
       "</table>\n",
       "</div>"
      ],
      "text/plain": [
       "            Item        Open        High         Low       Close   Volume\n",
       "Date                                                                     \n",
       "2016-10-31     0  822.429993  822.630005  808.000000  809.900024  2242700\n",
       "2016-11-01     1  810.869995  813.960022  798.260010  805.479980  2355900\n",
       "2016-11-02     2  806.760010  806.760010  785.000000  788.419983  2350700\n",
       "2016-11-03     3  784.500000  790.000000  778.630005  782.190002  2175200\n",
       "2016-11-04     4  771.299988  788.479980  771.000000  781.099976  1970600"
      ]
     },
     "execution_count": 7,
     "metadata": {},
     "output_type": "execute_result"
    }
   ],
   "source": [
    "# y_t = np.array(data['Close'])\n",
    "# X_t = data.copy()\n",
    "# X_t = X_t.drop(['Close'],axis=1)\n",
    "# X_t = np.array(X_t)\n",
    "# from sklearn.preprocessing import MinMaxScaler\n",
    "# normalizer = MinMaxScaler().fit(X_t,y=y_t)\n",
    "# data = normalizer.transform(X_t,y=y_t) \n",
    "# data\n",
    "# print(\"shape of Y :\"+ str(y_t.shape))\n",
    "# print(\"shape of X :\"+ str(X_t.shape))\n",
    " \n",
    "data.insert(0, 'Item', range(0, 0 + len(data)))\n",
    "data.head()"
   ]
  },
  {
   "cell_type": "code",
   "execution_count": 8,
   "metadata": {},
   "outputs": [],
   "source": [
    "def train_test_split_linear_regression(stocks):\n",
    "    \"\"\"\n",
    "        Split the data set into training and testing feature for Linear Regression Model\n",
    "        :param stocks: whole data set containing ['Open','Close','Volume'] features\n",
    "        :return: X_train : training sets of feature\n",
    "        :return: X_test : test sets of feature\n",
    "        :return: y_train: training sets of label\n",
    "        :return: y_test: test sets of label\n",
    "        :return: label_range: scaled range of label used in predicting price,\n",
    "    \"\"\"\n",
    "    # Create numpy arrays for features and targets\n",
    "    feature = []\n",
    "    label = []\n",
    "\n",
    "    # Convert dataframe columns to numpy arrays for scikit learn\n",
    "    for index, row in stocks.iterrows():\n",
    "        # print([np.array(row['Item'])])\n",
    "        feature.append([(row['Item'])])\n",
    "        label.append([(row['Close'])])\n",
    "\n",
    "    # Regularize the feature and target arrays and store min/max of input data for rescaling later\n",
    "    feature_bounds = [min(feature), max(feature)]\n",
    "    feature_bounds = [feature_bounds[0][0], feature_bounds[1][0]]\n",
    "    label_bounds = [min(label), max(label)]\n",
    "    label_bounds = [label_bounds[0][0], label_bounds[1][0]]\n",
    "\n",
    "    feature_scaled, feature_range = scale_range(np.array(feature), input_range=feature_bounds, target_range=[-1.0, 1.0])\n",
    "    label_scaled, label_range = scale_range(np.array(label), input_range=label_bounds, target_range=[-1.0, 1.0])\n",
    "\n",
    "    # Define Test/Train Split 80/20\n",
    "    split = .315\n",
    "    split = int(math.floor(len(stocks['Item']) * split))\n",
    "\n",
    "    # Set up training and test sets\n",
    "    X_train = feature_scaled[:-split]\n",
    "    X_test = feature_scaled[-split:]\n",
    "\n",
    "    y_train = label_scaled[:-split]\n",
    "    y_test = label_scaled[-split:]\n",
    "\n",
    "    return X_train, X_test, y_train, y_test, label_range"
   ]
  },
  {
   "cell_type": "code",
   "execution_count": 9,
   "metadata": {},
   "outputs": [],
   "source": [
    "import math\n",
    "def scale_range(x, input_range, target_range):\n",
    "    \"\"\"\n",
    "    Rescale a numpy array from input to target range\n",
    "    :param x: data to scale\n",
    "    :param input_range: optional input range for data: default 0.0:1.0\n",
    "    :param target_range: optional target range for data: default 0.0:1.0\n",
    "    :return: rescaled array, incoming range [min,max]\n",
    "    \"\"\"\n",
    "\n",
    "    range = [np.amin(x), np.amax(x)]\n",
    "    x_std = (x - input_range[0]) / (1.0*(input_range[1] - input_range[0]))\n",
    "    x_scaled = x_std * (1.0*(target_range[1] - target_range[0])) + target_range[0]\n",
    "    return x_scaled, range"
   ]
  },
  {
   "cell_type": "code",
   "execution_count": 10,
   "metadata": {},
   "outputs": [],
   "source": [
    "X_train, X_test, y_train, y_test, label_range = train_test_split_linear_regression(data)"
   ]
  },
  {
   "cell_type": "code",
   "execution_count": 11,
   "metadata": {},
   "outputs": [],
   "source": [
    "model = LinearRegression().fit(X_train,y_train)"
   ]
  },
  {
   "cell_type": "code",
   "execution_count": 12,
   "metadata": {},
   "outputs": [],
   "source": [
    "predictions = model.predict(X_test)\n"
   ]
  },
  {
   "cell_type": "code",
   "execution_count": 13,
   "metadata": {},
   "outputs": [
    {
     "data": {
      "text/plain": [
       "[<matplotlib.lines.Line2D at 0x7fc642d011c0>]"
      ]
     },
     "execution_count": 13,
     "metadata": {},
     "output_type": "execute_result"
    },
    {
     "data": {
      "image/png": "[encoded data removed]",
      "text/plain": [
       "<Figure size 432x288 with 1 Axes>"
      ]
     },
     "metadata": {
      "needs_background": "light"
     },
     "output_type": "display_data"
    }
   ],
   "source": [
    "plt.plot(y_test)\n",
    "plt.plot(predictions)\n",
    "# fig,ax=plt.subplots()\n",
    "# ax.plot(gapminder_us.year, gapminder_us.lifeExp, marker=\"o\")\n",
    "# ax.set_xlabel(\"days\")\n",
    "# ax.set_ylabel(\"lifeExp\")\n",
    "# ax.plot(gapminder_us.year, gapminder_us[\"gdpPercap\"], marker=\"o\")\n",
    "# plt.show()"
   ]
  },
  {
   "cell_type": "code",
   "execution_count": 14,
   "metadata": {},
   "outputs": [
    {
     "name": "stdout",
     "output_type": "stream",
     "text": [
      "0.06814080136109622\n"
     ]
    }
   ],
   "source": [
    "trainScore = mean_squared_error(X_train, y_train)\n",
    "print(trainScore)\n",
    "# print('Train Score: %.4f MSE (%.4f RMSE)' % (trainScore, math.sqrt(trainScore)))\n",
    "\n",
    "testScore = mean_squared_error(predictions, y_test)\n",
    "# print('Test Score: %.8f MSE (%.8f RMSE)' % (testScore, math.sqrt(testScore)))"
   ]
  },
  {
   "cell_type": "markdown",
   "metadata": {},
   "source": [
    "# Checkpoint 3 LSTM"
   ]
  },
  {
   "cell_type": "code",
   "execution_count": 15,
   "metadata": {},
   "outputs": [
    {
     "name": "stdout",
     "output_type": "stream",
     "text": [
      "Requirement already satisfied (use --upgrade to upgrade): keras in /Applications/anaconda3/lib/python3.8/site-packages\n",
      "Requirement already satisfied (use --upgrade to upgrade): scipy>=0.14 in /Applications/anaconda3/lib/python3.8/site-packages (from keras)\n",
      "Requirement already satisfied (use --upgrade to upgrade): h5py in /Applications/anaconda3/lib/python3.8/site-packages (from keras)\n",
      "Requirement already satisfied (use --upgrade to upgrade): numpy>=1.9.1 in /Applications/anaconda3/lib/python3.8/site-packages (from keras)\n",
      "Requirement already satisfied (use --upgrade to upgrade): pyyaml in /Applications/anaconda3/lib/python3.8/site-packages (from keras)\n",
      "Requirement already satisfied (use --upgrade to upgrade): six in /Applications/anaconda3/lib/python3.8/site-packages (from h5py->keras)\n",
      "\u001b[33mYou are using pip version 8.1.1, however version 21.1.2 is available.\n",
      "You should consider upgrading via the 'pip install --upgrade pip' command.\u001b[0m\n",
      "Note: you may need to restart the kernel to use updated packages.\n"
     ]
    }
   ],
   "source": [
    "pip install keras"
   ]
  },
  {
   "cell_type": "code",
   "execution_count": 16,
   "metadata": {},
   "outputs": [],
   "source": [
    "import math\n",
    "import pandas as pd\n",
    "import numpy as np\n",
    "from IPython.display import display\n",
    "\n",
    "from keras.layers.core import Dense, Activation, Dropout\n",
    "from keras.layers.recurrent import LSTM\n",
    "from keras.models import Sequential\n",
    "from keras.metrics import mean_squared_error\n",
    "from sklearn.model_selection import StratifiedKFold\n",
    "\n",
    "import time #helper libraries"
   ]
  },
  {
   "cell_type": "code",
   "execution_count": 17,
   "metadata": {},
   "outputs": [],
   "source": [
    "from keras.layers.core import Dense, Activation, Dropout\n",
    "from keras.layers.recurrent import LSTM\n",
    "from keras.models import Sequential\n",
    "\n",
    "\n",
    "def build_improved_model(input_dim, output_dim, return_sequences):\n",
    "    \"\"\"\n",
    "    Builds an improved Long Short term memory model using keras.layers.recurrent.lstm\n",
    "    :param input_dim: input dimension of model\n",
    "    :param output_dim: ouput dimension of model\n",
    "    :param return_sequences: return sequence for the model\n",
    "    :return: a 3 layered LSTM model\n",
    "    \"\"\"\n",
    "    model = Sequential()\n",
    "    model.add(LSTM(\n",
    "        input_shape=(None, input_dim),\n",
    "        units=output_dim,\n",
    "        return_sequences=return_sequences))\n",
    "\n",
    "    model.add(Dropout(0.2))\n",
    "\n",
    "    model.add(LSTM(\n",
    "        128,\n",
    "        return_sequences=False))\n",
    "\n",
    "    model.add(Dropout(0.2))\n",
    "\n",
    "    model.add(Dense(\n",
    "        units=1))\n",
    "    model.add(Activation('linear'))\n",
    "\n",
    "    return model\n",
    "\n",
    "\n",
    "def build_basic_model(input_dim, output_dim, return_sequences):\n",
    "    \"\"\"\n",
    "    Builds a basic lstm model \n",
    "    :param input_dim: input dimension of the model\n",
    "    :param output_dim: output dimension of the model\n",
    "    :param return_sequences: return sequence of the model\n",
    "    :return: a basic lstm model with 3 layers.\n",
    "    \"\"\"\n",
    "    model = Sequential()\n",
    "    model.add(LSTM(\n",
    "        input_shape=(None, input_dim),\n",
    "        units=output_dim,\n",
    "        return_sequences=return_sequences))\n",
    "\n",
    "    model.add(LSTM(\n",
    "        100,\n",
    "        return_sequences=False))\n",
    "\n",
    "    model.add(Dense(\n",
    "        units=1))\n",
    "    model.add(Activation('linear'))\n",
    "\n",
    "    return model"
   ]
  },
  {
   "cell_type": "code",
   "execution_count": 18,
   "metadata": {},
   "outputs": [],
   "source": [
    "def train_test_split_lstm(stocks, prediction_time=1, test_data_size=450, unroll_length=50):\n",
    "    \"\"\"\n",
    "        Split the data set into training and testing feature for Long Short Term Memory Model\n",
    "        :param stocks: whole data set containing ['Open','Close','Volume'] features\n",
    "        :param prediction_time: no of days\n",
    "        :param test_data_size: size of test data to be used\n",
    "        :param unroll_length: how long a window should be used for train test split\n",
    "        :return: X_train : training sets of feature\n",
    "        :return: X_test : test sets of feature\n",
    "        :return: y_train: training sets of label\n",
    "        :return: y_test: test sets of label\n",
    "    \"\"\"\n",
    "    # training data\n",
    "    test_data_cut = test_data_size + unroll_length + 1\n",
    "\n",
    "    x_train = stocks[0:-prediction_time - test_data_cut].as_matrix()\n",
    "    y_train = stocks[prediction_time:-test_data_cut]['Close'].as_matrix()\n",
    "\n",
    "    # test data\n",
    "    x_test = stocks[0 - test_data_cut:-prediction_time].as_matrix()\n",
    "    y_test = stocks[prediction_time - test_data_cut:]['Close'].as_matrix()\n",
    "\n",
    "    return x_train, x_test, y_train, y_test\n"
   ]
  },
  {
   "cell_type": "code",
   "execution_count": 40,
   "metadata": {},
   "outputs": [
    {
     "name": "stdout",
     "output_type": "stream",
     "text": [
      "shape of Y :(1028, 1)\n",
      "shape of X :(1028, 5)\n",
      "x_train (822, 5)\n",
      "y_train (822, 1)\n",
      "x_test (206, 5)\n",
      "y_test (206, 1)\n"
     ]
    }
   ],
   "source": [
    "y_t = np.array(data['Close'])\n",
    "X_t = data.copy()\n",
    "X_t = X_t.drop(['Close'],axis=1)\n",
    "X_t = np.array(X_t)\n",
    "\n",
    "from sklearn.preprocessing import MinMaxScaler\n",
    "normalizer = MinMaxScaler().fit(X_t)\n",
    "X_t = normalizer.transform(X_t) \n",
    "y_t = np.array(data['Close'])\n",
    "y_t = y_t.reshape(-1,1)\n",
    "normalizer = MinMaxScaler().fit(y_t)\n",
    "y_t = normalizer.transform(y_t) \n",
    "\n",
    "\n",
    "print(\"shape of Y :\"+ str(y_t.shape))\n",
    "print(\"shape of X :\"+ str(X_t.shape))\n",
    "\n",
    "X_train,X_test, y_test, y_test = train_test_split(X_t,y_t,test_size=.20,random_state=42)\n",
    "\n",
    "print(\"x_train\", X_train.shape)\n",
    "print(\"y_train\", y_train.shape)\n",
    "print(\"x_test\", X_test.shape)\n",
    "print(\"y_test\", y_test.shape)"
   ]
  },
  {
   "cell_type": "code",
   "execution_count": 20,
   "metadata": {},
   "outputs": [],
   "source": [
    "def unroll(data, sequence_length=24):\n",
    "    \"\"\"\n",
    "    use different windows for testing and training to stop from leak of information in the data\n",
    "    :param data: data set to be used for unrolling\n",
    "    :param sequence_length: window length\n",
    "    :return: data sets with different window.\n",
    "    \"\"\"\n",
    "    result = []\n",
    "    for index in range(len(data) - sequence_length):\n",
    "        result.append(data[index: index + sequence_length])\n",
    "    return np.asarray(result)"
   ]
  },
  {
   "cell_type": "code",
   "execution_count": 39,
   "metadata": {},
   "outputs": [
    {
     "name": "stdout",
     "output_type": "stream",
     "text": [
      "x_train (772, 50, 5)\n",
      "y_train (822, 1)\n",
      "x_test (156, 50, 5)\n",
      "y_test (206, 1)\n"
     ]
    }
   ],
   "source": [
    "unroll_length = 50\n",
    "X_train = unroll(X_train, unroll_length)\n",
    "X_test = unroll(X_test, unroll_length)\n",
    "# y_train = y_train[y_train.shape[0]:]\n",
    "# y_test = y_test[y_test.shape[0]:]\n",
    "\n",
    "print(\"x_train\", X_train.shape)\n",
    "print(\"y_train\", y_train.shape)\n",
    "print(\"x_test\", X_test.shape)\n",
    "print(\"y_test\", y_test.shape)"
   ]
  },
  {
   "cell_type": "code",
   "execution_count": 32,
   "metadata": {},
   "outputs": [],
   "source": [
    "from keras.layers.core import Dense, Activation, Dropout\n",
    "from keras.layers.recurrent import LSTM\n",
    "from keras.models import Sequential\n",
    "\n",
    "\n",
    "def build_improved_model(input_dim, output_dim, return_sequences):\n",
    "    \"\"\"\n",
    "    Builds an improved Long Short term memory model using keras.layers.recurrent.lstm\n",
    "    :param input_dim: input dimension of model\n",
    "    :param output_dim: ouput dimension of model\n",
    "    :param return_sequences: return sequence for the model\n",
    "    :return: a 3 layered LSTM model\n",
    "    \"\"\"\n",
    "    model = Sequential()\n",
    "    model.add(LSTM(\n",
    "        input_shape=(None, input_dim),\n",
    "        units=output_dim,\n",
    "        return_sequences=return_sequences))\n",
    "\n",
    "    model.add(Dropout(0.2))\n",
    "\n",
    "    model.add(LSTM(\n",
    "        128,\n",
    "        return_sequences=False))\n",
    "\n",
    "    model.add(Dropout(0.2))\n",
    "\n",
    "    model.add(Dense(\n",
    "        units=1))\n",
    "    model.add(Activation('linear'))\n",
    "\n",
    "    return model\n",
    "\n",
    "\n",
    "def build_basic_model(input_dim, output_dim, return_sequences):\n",
    "    \"\"\"\n",
    "    Builds a basic lstm model \n",
    "    :param input_dim: input dimension of the model\n",
    "    :param output_dim: output dimension of the model\n",
    "    :param return_sequences: return sequence of the model\n",
    "    :return: a basic lstm model with 3 layers.\n",
    "    \"\"\"\n",
    "    model = Sequential()\n",
    "    model.add(LSTM(\n",
    "        input_shape=(None, input_dim),\n",
    "        units=output_dim,\n",
    "        return_sequences=return_sequences))\n",
    "\n",
    "    model.add(LSTM(\n",
    "        100,\n",
    "        return_sequences=False))\n",
    "\n",
    "    model.add(Dense(\n",
    "        units=1))\n",
    "    model.add(Activation('linear'))\n",
    "\n",
    "    return model"
   ]
  },
  {
   "cell_type": "code",
   "execution_count": 33,
   "metadata": {},
   "outputs": [
    {
     "name": "stdout",
     "output_type": "stream",
     "text": [
      "compilation time :  0.004967927932739258\n"
     ]
    }
   ],
   "source": [
    "# build basic lstm model\n",
    "model = build_basic_model(input_dim = X_train.shape[-1],output_dim = unroll_length, return_sequences=True)\n",
    "\n",
    "# Compile the model\n",
    "start = time.time()\n",
    "model.compile(loss='mean_squared_error', optimizer='adam')\n",
    "print('compilation time : ', time.time() - start)"
   ]
  },
  {
   "cell_type": "code",
   "execution_count": 34,
   "metadata": {},
   "outputs": [
    {
     "ename": "ValueError",
     "evalue": "Data cardinality is ambiguous:\n  x sizes: 733\n  y sizes: 0\nMake sure all arrays contain the same number of samples.",
     "output_type": "error",
     "traceback": [
      "\u001b[0;31m---------------------------------------------------------------------------\u001b[0m",
      "\u001b[0;31mValueError\u001b[0m                                Traceback (most recent call last)",
      "\u001b[0;32m<ipython-input-34-1c26395b51d2>\u001b[0m in \u001b[0;36m<module>\u001b[0;34m\u001b[0m\n\u001b[0;32m----> 1\u001b[0;31m model.fit(\n\u001b[0m\u001b[1;32m      2\u001b[0m     \u001b[0mX_train\u001b[0m\u001b[0;34m,\u001b[0m\u001b[0;34m\u001b[0m\u001b[0;34m\u001b[0m\u001b[0m\n\u001b[1;32m      3\u001b[0m     \u001b[0my_train\u001b[0m\u001b[0;34m,\u001b[0m\u001b[0;34m\u001b[0m\u001b[0;34m\u001b[0m\u001b[0m\n\u001b[1;32m      4\u001b[0m     \u001b[0mepochs\u001b[0m\u001b[0;34m=\u001b[0m\u001b[0;36m1\u001b[0m\u001b[0;34m,\u001b[0m\u001b[0;34m\u001b[0m\u001b[0;34m\u001b[0m\u001b[0m\n\u001b[1;32m      5\u001b[0m     validation_split=0.05)\n",
      "\u001b[0;32m/Applications/anaconda3/lib/python3.8/site-packages/tensorflow/python/keras/engine/training.py\u001b[0m in \u001b[0;36mfit\u001b[0;34m(self, x, y, batch_size, epochs, verbose, callbacks, validation_split, validation_data, shuffle, class_weight, sample_weight, initial_epoch, steps_per_epoch, validation_steps, validation_batch_size, validation_freq, max_queue_size, workers, use_multiprocessing)\u001b[0m\n\u001b[1;32m   1048\u001b[0m          \u001b[0mtraining_utils\u001b[0m\u001b[0;34m.\u001b[0m\u001b[0mRespectCompiledTrainableState\u001b[0m\u001b[0;34m(\u001b[0m\u001b[0mself\u001b[0m\u001b[0;34m)\u001b[0m\u001b[0;34m:\u001b[0m\u001b[0;34m\u001b[0m\u001b[0;34m\u001b[0m\u001b[0m\n\u001b[1;32m   1049\u001b[0m       \u001b[0;31m# Creates a `tf.data.Dataset` and handles batch and epoch iteration.\u001b[0m\u001b[0;34m\u001b[0m\u001b[0;34m\u001b[0m\u001b[0;34m\u001b[0m\u001b[0m\n\u001b[0;32m-> 1050\u001b[0;31m       data_handler = data_adapter.DataHandler(\n\u001b[0m\u001b[1;32m   1051\u001b[0m           \u001b[0mx\u001b[0m\u001b[0;34m=\u001b[0m\u001b[0mx\u001b[0m\u001b[0;34m,\u001b[0m\u001b[0;34m\u001b[0m\u001b[0;34m\u001b[0m\u001b[0m\n\u001b[1;32m   1052\u001b[0m           \u001b[0my\u001b[0m\u001b[0;34m=\u001b[0m\u001b[0my\u001b[0m\u001b[0;34m,\u001b[0m\u001b[0;34m\u001b[0m\u001b[0;34m\u001b[0m\u001b[0m\n",
      "\u001b[0;32m/Applications/anaconda3/lib/python3.8/site-packages/tensorflow/python/keras/engine/data_adapter.py\u001b[0m in \u001b[0;36m__init__\u001b[0;34m(self, x, y, sample_weight, batch_size, steps_per_epoch, initial_epoch, epochs, shuffle, class_weight, max_queue_size, workers, use_multiprocessing, model, steps_per_execution)\u001b[0m\n\u001b[1;32m   1098\u001b[0m \u001b[0;34m\u001b[0m\u001b[0m\n\u001b[1;32m   1099\u001b[0m     \u001b[0madapter_cls\u001b[0m \u001b[0;34m=\u001b[0m \u001b[0mselect_data_adapter\u001b[0m\u001b[0;34m(\u001b[0m\u001b[0mx\u001b[0m\u001b[0;34m,\u001b[0m \u001b[0my\u001b[0m\u001b[0;34m)\u001b[0m\u001b[0;34m\u001b[0m\u001b[0;34m\u001b[0m\u001b[0m\n\u001b[0;32m-> 1100\u001b[0;31m     self._adapter = adapter_cls(\n\u001b[0m\u001b[1;32m   1101\u001b[0m         \u001b[0mx\u001b[0m\u001b[0;34m,\u001b[0m\u001b[0;34m\u001b[0m\u001b[0;34m\u001b[0m\u001b[0m\n\u001b[1;32m   1102\u001b[0m         \u001b[0my\u001b[0m\u001b[0;34m,\u001b[0m\u001b[0;34m\u001b[0m\u001b[0;34m\u001b[0m\u001b[0m\n",
      "\u001b[0;32m/Applications/anaconda3/lib/python3.8/site-packages/tensorflow/python/keras/engine/data_adapter.py\u001b[0m in \u001b[0;36m__init__\u001b[0;34m(self, x, y, sample_weights, sample_weight_modes, batch_size, epochs, steps, shuffle, **kwargs)\u001b[0m\n\u001b[1;32m    272\u001b[0m \u001b[0;34m\u001b[0m\u001b[0m\n\u001b[1;32m    273\u001b[0m     \u001b[0mnum_samples\u001b[0m \u001b[0;34m=\u001b[0m \u001b[0mset\u001b[0m\u001b[0;34m(\u001b[0m\u001b[0mint\u001b[0m\u001b[0;34m(\u001b[0m\u001b[0mi\u001b[0m\u001b[0;34m.\u001b[0m\u001b[0mshape\u001b[0m\u001b[0;34m[\u001b[0m\u001b[0;36m0\u001b[0m\u001b[0;34m]\u001b[0m\u001b[0;34m)\u001b[0m \u001b[0;32mfor\u001b[0m \u001b[0mi\u001b[0m \u001b[0;32min\u001b[0m \u001b[0mnest\u001b[0m\u001b[0;34m.\u001b[0m\u001b[0mflatten\u001b[0m\u001b[0;34m(\u001b[0m\u001b[0minputs\u001b[0m\u001b[0;34m)\u001b[0m\u001b[0;34m)\u001b[0m\u001b[0;34m.\u001b[0m\u001b[0mpop\u001b[0m\u001b[0;34m(\u001b[0m\u001b[0;34m)\u001b[0m\u001b[0;34m\u001b[0m\u001b[0;34m\u001b[0m\u001b[0m\n\u001b[0;32m--> 274\u001b[0;31m     \u001b[0m_check_data_cardinality\u001b[0m\u001b[0;34m(\u001b[0m\u001b[0minputs\u001b[0m\u001b[0;34m)\u001b[0m\u001b[0;34m\u001b[0m\u001b[0;34m\u001b[0m\u001b[0m\n\u001b[0m\u001b[1;32m    275\u001b[0m \u001b[0;34m\u001b[0m\u001b[0m\n\u001b[1;32m    276\u001b[0m     \u001b[0;31m# If batch_size is not passed but steps is, calculate from the input data.\u001b[0m\u001b[0;34m\u001b[0m\u001b[0;34m\u001b[0m\u001b[0;34m\u001b[0m\u001b[0m\n",
      "\u001b[0;32m/Applications/anaconda3/lib/python3.8/site-packages/tensorflow/python/keras/engine/data_adapter.py\u001b[0m in \u001b[0;36m_check_data_cardinality\u001b[0;34m(data)\u001b[0m\n\u001b[1;32m   1527\u001b[0m           label, \", \".join(str(i.shape[0]) for i in nest.flatten(single_data)))\n\u001b[1;32m   1528\u001b[0m     \u001b[0mmsg\u001b[0m \u001b[0;34m+=\u001b[0m \u001b[0;34m\"Make sure all arrays contain the same number of samples.\"\u001b[0m\u001b[0;34m\u001b[0m\u001b[0;34m\u001b[0m\u001b[0m\n\u001b[0;32m-> 1529\u001b[0;31m     \u001b[0;32mraise\u001b[0m \u001b[0mValueError\u001b[0m\u001b[0;34m(\u001b[0m\u001b[0mmsg\u001b[0m\u001b[0;34m)\u001b[0m\u001b[0;34m\u001b[0m\u001b[0;34m\u001b[0m\u001b[0m\n\u001b[0m\u001b[1;32m   1530\u001b[0m \u001b[0;34m\u001b[0m\u001b[0m\n\u001b[1;32m   1531\u001b[0m \u001b[0;34m\u001b[0m\u001b[0m\n",
      "\u001b[0;31mValueError\u001b[0m: Data cardinality is ambiguous:\n  x sizes: 733\n  y sizes: 0\nMake sure all arrays contain the same number of samples."
     ]
    }
   ],
   "source": [
    "model.fit(\n",
    "    X_train,\n",
    "    y_train,\n",
    "    epochs=1,\n",
    "    validation_split=0.05)"
   ]
  },
  {
   "cell_type": "code",
   "execution_count": null,
   "metadata": {},
   "outputs": [],
   "source": []
  }
 ],
 "metadata": {
  "kernelspec": {
   "display_name": "Python 3",
   "language": "python",
   "name": "python3"
  },
  "language_info": {
   "codemirror_mode": {
    "name": "ipython",
    "version": 3
   },
   "file_extension": ".py",
   "mimetype": "text/x-python",
   "name": "python",
   "nbconvert_exporter": "python",
   "pygments_lexer": "ipython3",
   "version": "3.8.5"
  }
 },
 "nbformat": 4,
 "nbformat_minor": 4
}
